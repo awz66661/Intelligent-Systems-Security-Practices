{
 "cells": [
  {
   "cell_type": "code",
   "execution_count": 1,
   "id": "dbec15bd",
   "metadata": {},
   "outputs": [],
   "source": [
    "import random\n",
    "import numpy as np\n",
    "import matplotlib.pyplot as plt\n",
    "import torch\n",
    "import torch.nn as nn\n",
    "import torchvision\n",
    "from tqdm import tqdm\n",
    "\n",
    "from utils_week9to11 import LeNet5, train, test"
   ]
  },
  {
   "cell_type": "code",
   "execution_count": 2,
   "id": "077d40fe",
   "metadata": {},
   "outputs": [],
   "source": [
    "batch_size = 128\n",
    "epochs = 10\n",
    "device = torch.device('cuda') if torch.cuda.is_available() else 'cpu'"
   ]
  },
  {
   "cell_type": "markdown",
   "id": "1e5be3e9",
   "metadata": {},
   "source": [
    "## Backdooring under Different Poisoning Ratios\n",
    "> 区别于上一周的可见后门，不可见后门由于在训练过程中会实时更新后门触发器\\\n",
    "> 我们将不再预处理生成后门数据集，而是在训练过程中实时构建后门样本\n",
    "\n",
    "- 不可见后门攻击的攻击框架与可见后门基本一致\n",
    "\n",
    "- 攻击者会干预模型的训练和测试两阶段\n",
    "\n",
    "- 在训练时投入一定比例的后门样本，在测试时将trigger添加在干净图片上发起攻击\n",
    "\n",
    "建议使用的API：\n",
    "- torch.ones_like(input, dtype, device)：生成一个元素值全为1、形如input的多维Tensor\n",
    "- torch.ones(size, dtype, device)：生成一个元素值全为1的多维Tensor\n",
    "- torch.norm(input, p)：计算input的L_p范数"
   ]
  },
  {
   "cell_type": "code",
   "execution_count": 3,
   "id": "9cf5c49b",
   "metadata": {},
   "outputs": [],
   "source": [
    "# 在干净训练数据集上实时生成后门样本并进行训练，同步更新模型参数和后门trigger\n",
    "def invisible_trigger_train(model, loader, criterion, optim_model, optim_trigger, trigger, target_label=3):\n",
    "    model.train()\n",
    "    train_loss, sample_num = 0., 0\n",
    "\n",
    "    for inputs, labels in tqdm(loader):\n",
    "        normal_inputs, normal_labels = inputs.to(device), labels.to(device)\n",
    "\n",
    "        # TODO：基于正常样本生成后门样本\n",
    "        backdoor_inputs = inputs + trigger\n",
    "        backdoor_labels = torch.ones_like(labels) * target_label\n",
    "\n",
    "        optim_model.zero_grad()\n",
    "        optim_trigger.zero_grad()\n",
    "\n",
    "        # TODO：分别计算\n",
    "        # main_loss->模型在正常样本上的分类loss，\n",
    "        # backdoor_loss->模型在后门样本上的分类loss，\n",
    "        # reg_loss->正则化项（trigger的L2范数）\n",
    "        main_loss = criterion(model(normal_inputs), normal_labels)\n",
    "\n",
    "        backdoor_loss = criterion(model(backdoor_inputs), backdoor_labels)\n",
    "        \n",
    "        reg_loss = torch.norm(trigger)\n",
    "\n",
    "        loss = main_loss + 0.5 * backdoor_loss + 0.1 * reg_loss\n",
    "        loss.backward()\n",
    "        \n",
    "        optim_model.step()\n",
    "        optim_trigger.step()\n",
    "\n",
    "        sample_num += inputs.shape[0]\n",
    "        train_loss += loss.item() * inputs.shape[0]\n",
    "        # break\n",
    "\n",
    "    train_loss /= sample_num    \n",
    "    return train_loss"
   ]
  },
  {
   "cell_type": "markdown",
   "id": "93633b78",
   "metadata": {},
   "source": [
    "### 数据准备"
   ]
  },
  {
   "cell_type": "code",
   "execution_count": 4,
   "id": "31e12ff0",
   "metadata": {},
   "outputs": [
    {
     "name": "stdout",
     "output_type": "stream",
     "text": [
      "Downloading http://yann.lecun.com/exdb/mnist/train-images-idx3-ubyte.gz\n",
      "Failed to download (trying next):\n",
      "HTTP Error 403: Forbidden\n",
      "\n",
      "Downloading https://ossci-datasets.s3.amazonaws.com/mnist/train-images-idx3-ubyte.gz\n",
      "Downloading https://ossci-datasets.s3.amazonaws.com/mnist/train-images-idx3-ubyte.gz to data/MNIST/raw/train-images-idx3-ubyte.gz\n"
     ]
    },
    {
     "name": "stderr",
     "output_type": "stream",
     "text": [
      "100%|██████████| 9912422/9912422 [05:36<00:00, 29428.19it/s] \n"
     ]
    },
    {
     "name": "stdout",
     "output_type": "stream",
     "text": [
      "Extracting data/MNIST/raw/train-images-idx3-ubyte.gz to data/MNIST/raw\n",
      "\n",
      "Downloading http://yann.lecun.com/exdb/mnist/train-labels-idx1-ubyte.gz\n",
      "Failed to download (trying next):\n",
      "HTTP Error 403: Forbidden\n",
      "\n",
      "Downloading https://ossci-datasets.s3.amazonaws.com/mnist/train-labels-idx1-ubyte.gz\n",
      "Downloading https://ossci-datasets.s3.amazonaws.com/mnist/train-labels-idx1-ubyte.gz to data/MNIST/raw/train-labels-idx1-ubyte.gz\n"
     ]
    },
    {
     "name": "stderr",
     "output_type": "stream",
     "text": [
      "100%|██████████| 28881/28881 [00:01<00:00, 20738.63it/s]\n"
     ]
    },
    {
     "name": "stdout",
     "output_type": "stream",
     "text": [
      "Extracting data/MNIST/raw/train-labels-idx1-ubyte.gz to data/MNIST/raw\n",
      "\n",
      "Downloading http://yann.lecun.com/exdb/mnist/t10k-images-idx3-ubyte.gz\n",
      "Failed to download (trying next):\n",
      "HTTP Error 403: Forbidden\n",
      "\n",
      "Downloading https://ossci-datasets.s3.amazonaws.com/mnist/t10k-images-idx3-ubyte.gz\n",
      "Downloading https://ossci-datasets.s3.amazonaws.com/mnist/t10k-images-idx3-ubyte.gz to data/MNIST/raw/t10k-images-idx3-ubyte.gz\n"
     ]
    },
    {
     "name": "stderr",
     "output_type": "stream",
     "text": [
      "100%|██████████| 1648877/1648877 [01:06<00:00, 24785.96it/s]\n"
     ]
    },
    {
     "name": "stdout",
     "output_type": "stream",
     "text": [
      "Extracting data/MNIST/raw/t10k-images-idx3-ubyte.gz to data/MNIST/raw\n",
      "\n",
      "Downloading http://yann.lecun.com/exdb/mnist/t10k-labels-idx1-ubyte.gz\n",
      "Failed to download (trying next):\n",
      "HTTP Error 403: Forbidden\n",
      "\n",
      "Downloading https://ossci-datasets.s3.amazonaws.com/mnist/t10k-labels-idx1-ubyte.gz\n",
      "Downloading https://ossci-datasets.s3.amazonaws.com/mnist/t10k-labels-idx1-ubyte.gz to data/MNIST/raw/t10k-labels-idx1-ubyte.gz\n"
     ]
    },
    {
     "name": "stderr",
     "output_type": "stream",
     "text": [
      "100%|██████████| 4542/4542 [00:00<00:00, 5921830.52it/s]"
     ]
    },
    {
     "name": "stdout",
     "output_type": "stream",
     "text": [
      "Extracting data/MNIST/raw/t10k-labels-idx1-ubyte.gz to data/MNIST/raw\n",
      "\n",
      "Clean train data is prepared.\n",
      "Clean test data is prepared.\n"
     ]
    },
    {
     "name": "stderr",
     "output_type": "stream",
     "text": [
      "\n"
     ]
    }
   ],
   "source": [
    "train_data = torchvision.datasets.MNIST(root='data/', train=True, transform=torchvision.transforms.ToTensor(), download=True)\n",
    "train_loader = torch.utils.data.DataLoader(dataset=train_data, batch_size=batch_size, shuffle=True)\n",
    "print('Clean train data is prepared.')\n",
    "\n",
    "test_data = torchvision.datasets.MNIST(root='data/', train=False, transform=torchvision.transforms.ToTensor(), download=True)\n",
    "test_loader = torch.utils.data.DataLoader(dataset=test_data, batch_size=batch_size, shuffle=True)\n",
    "print('Clean test data is prepared.')"
   ]
  },
  {
   "cell_type": "markdown",
   "id": "1da705ac",
   "metadata": {},
   "source": [
    "### 测试准备"
   ]
  },
  {
   "cell_type": "code",
   "execution_count": 5,
   "id": "0c9a5a63",
   "metadata": {},
   "outputs": [],
   "source": [
    "# 在后门测试集上测试攻击成功率ASR\n",
    "def test_backdoor(model, loader, trigger, device=None, target_label=3):\n",
    "    device = next(model.parameters()).device if device is None else device\n",
    "    model.eval()\n",
    "    total_num = 0.\n",
    "    correct_num = 0.\n",
    "    with torch.no_grad():\n",
    "        for inputs, labels in tqdm(loader):\n",
    "            inputs, labels = inputs.to(device), labels.to(device)\n",
    "            \n",
    "            # TODO：基于正常样本生成后门样本\n",
    "            backdoor_inputs = inputs + trigger\n",
    "            backdoor_labels = torch.ones_like(labels) * target_label\n",
    "            \n",
    "            outputs = model(backdoor_inputs)\n",
    "            _, predicted = torch.max(outputs.data, dim=1)\n",
    "            total_num += inputs.shape[0]\n",
    "            correct_num += predicted.eq(backdoor_labels).sum().item()\n",
    "    acc = correct_num / total_num * 100.\n",
    "    return acc"
   ]
  },
  {
   "cell_type": "markdown",
   "id": "75ddbe35",
   "metadata": {},
   "source": [
    "### 模型训练及测试\n",
    "\n",
    "**助教验收**：\n",
    "- 3种trigger_lr设置下，最佳效果的test_acc > 95.0%、test_asr > 99.0%"
   ]
  },
  {
   "cell_type": "code",
   "execution_count": 6,
   "id": "0257ac32",
   "metadata": {
    "scrolled": false
   },
   "outputs": [
    {
     "name": "stdout",
     "output_type": "stream",
     "text": [
      "##### Experiment on lr=0.005 #####\n"
     ]
    },
    {
     "name": "stderr",
     "output_type": "stream",
     "text": [
      "100%|██████████| 469/469 [00:16<00:00, 28.54it/s]\n",
      "100%|██████████| 79/79 [00:01<00:00, 63.73it/s]\n"
     ]
    },
    {
     "name": "stdout",
     "output_type": "stream",
     "text": [
      "Epoch 0: train_loss 4.1014, test_acc 26.36%, test_asr 100.00%, \n"
     ]
    },
    {
     "name": "stderr",
     "output_type": "stream",
     "text": [
      "100%|██████████| 469/469 [00:14<00:00, 31.89it/s]\n",
      "100%|██████████| 79/79 [00:01<00:00, 60.98it/s]\n"
     ]
    },
    {
     "name": "stdout",
     "output_type": "stream",
     "text": [
      "Epoch 1: train_loss 2.8792, test_acc 83.13%, test_asr 99.99%, \n"
     ]
    },
    {
     "name": "stderr",
     "output_type": "stream",
     "text": [
      "100%|██████████| 469/469 [00:15<00:00, 30.97it/s]\n",
      "100%|██████████| 79/79 [00:01<00:00, 62.53it/s]\n"
     ]
    },
    {
     "name": "stdout",
     "output_type": "stream",
     "text": [
      "Epoch 2: train_loss 1.9669, test_acc 87.89%, test_asr 99.87%, \n"
     ]
    },
    {
     "name": "stderr",
     "output_type": "stream",
     "text": [
      "100%|██████████| 469/469 [00:14<00:00, 31.50it/s]\n",
      "100%|██████████| 79/79 [00:01<00:00, 62.67it/s]\n"
     ]
    },
    {
     "name": "stdout",
     "output_type": "stream",
     "text": [
      "Epoch 3: train_loss 1.8119, test_acc 92.74%, test_asr 100.00%, \n"
     ]
    },
    {
     "name": "stderr",
     "output_type": "stream",
     "text": [
      "100%|██████████| 469/469 [00:15<00:00, 31.16it/s]\n",
      "100%|██████████| 79/79 [00:01<00:00, 64.35it/s]\n"
     ]
    },
    {
     "name": "stdout",
     "output_type": "stream",
     "text": [
      "Epoch 4: train_loss 1.7263, test_acc 93.22%, test_asr 100.00%, \n"
     ]
    },
    {
     "name": "stderr",
     "output_type": "stream",
     "text": [
      "100%|██████████| 469/469 [00:15<00:00, 30.32it/s]\n",
      "100%|██████████| 79/79 [00:01<00:00, 60.90it/s]\n"
     ]
    },
    {
     "name": "stdout",
     "output_type": "stream",
     "text": [
      "Epoch 5: train_loss 1.6613, test_acc 94.84%, test_asr 100.00%, \n"
     ]
    },
    {
     "name": "stderr",
     "output_type": "stream",
     "text": [
      "100%|██████████| 469/469 [00:15<00:00, 30.94it/s]\n",
      "100%|██████████| 79/79 [00:01<00:00, 60.80it/s]\n"
     ]
    },
    {
     "name": "stdout",
     "output_type": "stream",
     "text": [
      "Epoch 6: train_loss 1.6084, test_acc 95.86%, test_asr 100.00%, \n"
     ]
    },
    {
     "name": "stderr",
     "output_type": "stream",
     "text": [
      "100%|██████████| 469/469 [00:15<00:00, 30.73it/s]\n",
      "100%|██████████| 79/79 [00:01<00:00, 61.42it/s]\n"
     ]
    },
    {
     "name": "stdout",
     "output_type": "stream",
     "text": [
      "Epoch 7: train_loss 1.5630, test_acc 95.71%, test_asr 100.00%, \n"
     ]
    },
    {
     "name": "stderr",
     "output_type": "stream",
     "text": [
      "100%|██████████| 469/469 [00:15<00:00, 31.25it/s]\n",
      "100%|██████████| 79/79 [00:01<00:00, 61.54it/s]\n"
     ]
    },
    {
     "name": "stdout",
     "output_type": "stream",
     "text": [
      "Epoch 8: train_loss 1.5223, test_acc 96.34%, test_asr 99.98%, \n"
     ]
    },
    {
     "name": "stderr",
     "output_type": "stream",
     "text": [
      "100%|██████████| 469/469 [00:15<00:00, 30.85it/s]\n",
      "100%|██████████| 79/79 [00:01<00:00, 61.59it/s]\n"
     ]
    },
    {
     "name": "stdout",
     "output_type": "stream",
     "text": [
      "Epoch 9: train_loss 1.4864, test_acc 96.84%, test_asr 99.95%, \n",
      "##### Experiment on lr=0.010 #####\n"
     ]
    },
    {
     "name": "stderr",
     "output_type": "stream",
     "text": [
      "100%|██████████| 469/469 [00:15<00:00, 31.21it/s]\n",
      "100%|██████████| 79/79 [00:01<00:00, 59.56it/s]\n"
     ]
    },
    {
     "name": "stdout",
     "output_type": "stream",
     "text": [
      "Epoch 0: train_loss 3.9927, test_acc 55.76%, test_asr 100.00%, \n"
     ]
    },
    {
     "name": "stderr",
     "output_type": "stream",
     "text": [
      "100%|██████████| 469/469 [00:15<00:00, 30.80it/s]\n",
      "100%|██████████| 79/79 [00:01<00:00, 62.06it/s]\n"
     ]
    },
    {
     "name": "stdout",
     "output_type": "stream",
     "text": [
      "Epoch 1: train_loss 2.5314, test_acc 83.47%, test_asr 100.00%, \n"
     ]
    },
    {
     "name": "stderr",
     "output_type": "stream",
     "text": [
      "100%|██████████| 469/469 [00:14<00:00, 31.93it/s]\n",
      "100%|██████████| 79/79 [00:01<00:00, 62.50it/s]\n"
     ]
    },
    {
     "name": "stdout",
     "output_type": "stream",
     "text": [
      "Epoch 2: train_loss 1.9246, test_acc 89.28%, test_asr 100.00%, \n"
     ]
    },
    {
     "name": "stderr",
     "output_type": "stream",
     "text": [
      "100%|██████████| 469/469 [00:14<00:00, 32.03it/s]\n",
      "100%|██████████| 79/79 [00:01<00:00, 62.42it/s]\n"
     ]
    },
    {
     "name": "stdout",
     "output_type": "stream",
     "text": [
      "Epoch 3: train_loss 1.7726, test_acc 91.56%, test_asr 100.00%, \n"
     ]
    },
    {
     "name": "stderr",
     "output_type": "stream",
     "text": [
      "100%|██████████| 469/469 [00:14<00:00, 31.86it/s]\n",
      "100%|██████████| 79/79 [00:01<00:00, 64.08it/s]\n"
     ]
    },
    {
     "name": "stdout",
     "output_type": "stream",
     "text": [
      "Epoch 4: train_loss 1.6651, test_acc 94.00%, test_asr 99.98%, \n"
     ]
    },
    {
     "name": "stderr",
     "output_type": "stream",
     "text": [
      "100%|██████████| 469/469 [00:14<00:00, 31.47it/s]\n",
      "100%|██████████| 79/79 [00:01<00:00, 63.90it/s]\n"
     ]
    },
    {
     "name": "stdout",
     "output_type": "stream",
     "text": [
      "Epoch 5: train_loss 1.5763, test_acc 94.30%, test_asr 100.00%, \n"
     ]
    },
    {
     "name": "stderr",
     "output_type": "stream",
     "text": [
      "100%|██████████| 469/469 [00:14<00:00, 31.91it/s]\n",
      "100%|██████████| 79/79 [00:01<00:00, 63.42it/s]\n"
     ]
    },
    {
     "name": "stdout",
     "output_type": "stream",
     "text": [
      "Epoch 6: train_loss 1.5009, test_acc 95.02%, test_asr 99.96%, \n"
     ]
    },
    {
     "name": "stderr",
     "output_type": "stream",
     "text": [
      "100%|██████████| 469/469 [00:14<00:00, 31.54it/s]\n",
      "100%|██████████| 79/79 [00:01<00:00, 60.08it/s]\n"
     ]
    },
    {
     "name": "stdout",
     "output_type": "stream",
     "text": [
      "Epoch 7: train_loss 1.4308, test_acc 95.99%, test_asr 100.00%, \n"
     ]
    },
    {
     "name": "stderr",
     "output_type": "stream",
     "text": [
      "100%|██████████| 469/469 [00:15<00:00, 31.25it/s]\n",
      "100%|██████████| 79/79 [00:01<00:00, 61.47it/s]\n"
     ]
    },
    {
     "name": "stdout",
     "output_type": "stream",
     "text": [
      "Epoch 8: train_loss 1.3699, test_acc 96.62%, test_asr 100.00%, \n"
     ]
    },
    {
     "name": "stderr",
     "output_type": "stream",
     "text": [
      "100%|██████████| 469/469 [00:15<00:00, 31.02it/s]\n",
      "100%|██████████| 79/79 [00:01<00:00, 64.13it/s]\n"
     ]
    },
    {
     "name": "stdout",
     "output_type": "stream",
     "text": [
      "Epoch 9: train_loss 1.3095, test_acc 96.87%, test_asr 100.00%, \n",
      "##### Experiment on lr=0.050 #####\n"
     ]
    },
    {
     "name": "stderr",
     "output_type": "stream",
     "text": [
      "100%|██████████| 469/469 [00:14<00:00, 31.63it/s]\n",
      "100%|██████████| 79/79 [00:01<00:00, 63.04it/s]\n"
     ]
    },
    {
     "name": "stdout",
     "output_type": "stream",
     "text": [
      "Epoch 0: train_loss 3.8364, test_acc 66.98%, test_asr 100.00%, \n"
     ]
    },
    {
     "name": "stderr",
     "output_type": "stream",
     "text": [
      "100%|██████████| 469/469 [00:14<00:00, 32.23it/s]\n",
      "100%|██████████| 79/79 [00:01<00:00, 63.07it/s]\n"
     ]
    },
    {
     "name": "stdout",
     "output_type": "stream",
     "text": [
      "Epoch 1: train_loss 2.1400, test_acc 86.47%, test_asr 100.00%, \n"
     ]
    },
    {
     "name": "stderr",
     "output_type": "stream",
     "text": [
      "100%|██████████| 469/469 [00:15<00:00, 30.97it/s]\n",
      "100%|██████████| 79/79 [00:01<00:00, 65.18it/s]\n"
     ]
    },
    {
     "name": "stdout",
     "output_type": "stream",
     "text": [
      "Epoch 2: train_loss 1.4782, test_acc 90.90%, test_asr 100.00%, \n"
     ]
    },
    {
     "name": "stderr",
     "output_type": "stream",
     "text": [
      "100%|██████████| 469/469 [00:14<00:00, 31.84it/s]\n",
      "100%|██████████| 79/79 [00:01<00:00, 55.70it/s]\n"
     ]
    },
    {
     "name": "stdout",
     "output_type": "stream",
     "text": [
      "Epoch 3: train_loss 1.1527, test_acc 93.00%, test_asr 99.96%, \n"
     ]
    },
    {
     "name": "stderr",
     "output_type": "stream",
     "text": [
      "100%|██████████| 469/469 [00:14<00:00, 31.99it/s]\n",
      "100%|██████████| 79/79 [00:01<00:00, 60.80it/s]\n"
     ]
    },
    {
     "name": "stdout",
     "output_type": "stream",
     "text": [
      "Epoch 4: train_loss 0.9968, test_acc 93.91%, test_asr 99.97%, \n"
     ]
    },
    {
     "name": "stderr",
     "output_type": "stream",
     "text": [
      "100%|██████████| 469/469 [00:14<00:00, 32.06it/s]\n",
      "100%|██████████| 79/79 [00:01<00:00, 63.73it/s]\n"
     ]
    },
    {
     "name": "stdout",
     "output_type": "stream",
     "text": [
      "Epoch 5: train_loss 0.7136, test_acc 94.04%, test_asr 99.99%, \n"
     ]
    },
    {
     "name": "stderr",
     "output_type": "stream",
     "text": [
      "100%|██████████| 469/469 [00:14<00:00, 31.59it/s]\n",
      "100%|██████████| 79/79 [00:01<00:00, 62.60it/s]\n"
     ]
    },
    {
     "name": "stdout",
     "output_type": "stream",
     "text": [
      "Epoch 6: train_loss 0.5723, test_acc 95.28%, test_asr 99.66%, \n"
     ]
    },
    {
     "name": "stderr",
     "output_type": "stream",
     "text": [
      "100%|██████████| 469/469 [00:15<00:00, 30.24it/s]\n",
      "100%|██████████| 79/79 [00:01<00:00, 60.15it/s]\n"
     ]
    },
    {
     "name": "stdout",
     "output_type": "stream",
     "text": [
      "Epoch 7: train_loss 0.5382, test_acc 94.14%, test_asr 93.66%, \n"
     ]
    },
    {
     "name": "stderr",
     "output_type": "stream",
     "text": [
      "100%|██████████| 469/469 [00:15<00:00, 29.86it/s]\n",
      "100%|██████████| 79/79 [00:01<00:00, 64.62it/s]\n"
     ]
    },
    {
     "name": "stdout",
     "output_type": "stream",
     "text": [
      "Epoch 8: train_loss 0.3913, test_acc 94.77%, test_asr 99.96%, \n"
     ]
    },
    {
     "name": "stderr",
     "output_type": "stream",
     "text": [
      "100%|██████████| 469/469 [00:15<00:00, 29.97it/s]\n",
      "100%|██████████| 79/79 [00:02<00:00, 35.07it/s]"
     ]
    },
    {
     "name": "stdout",
     "output_type": "stream",
     "text": [
      "Epoch 9: train_loss 0.4873, test_acc 95.82%, test_asr 99.72%, \n"
     ]
    },
    {
     "name": "stderr",
     "output_type": "stream",
     "text": [
      "\n"
     ]
    }
   ],
   "source": [
    "# 在不同学习率下优化trigger并植入模型，再测试模型在干净测试集的正常性能\n",
    "model_lr = 0.01\n",
    "trained_models = []\n",
    "invisible_triggers = []\n",
    "\n",
    "for trigger_lr in [ 0.005, 0.01, 0.05]:\n",
    "    print('##### Experiment on lr=%.3f #####' % trigger_lr)\n",
    "    \n",
    "    model = LeNet5()\n",
    "    model = model.to(device)\n",
    "    criterion = nn.CrossEntropyLoss()\n",
    "    \n",
    "    # 生成不可见trigger（即全局扰动）\n",
    "    trigger = torch.rand(28, 28).to(device)\n",
    "    trigger.requires_grad = True\n",
    "\n",
    "    # TODO：为模型和trigger分别设置优化器optim_model和optim_trigger\n",
    "    optim_model = torch.optim.SGD(model.parameters(), lr=model_lr)\n",
    "    optim_trigger = torch.optim.SGD([trigger], lr=trigger_lr)\n",
    "\n",
    "    for epoch in range(epochs):\n",
    "        # 生成后门并植入\n",
    "        train_loss = invisible_trigger_train(model, train_loader, criterion, optim_model, optim_trigger, trigger)\n",
    "        # 测试模型正常性能\n",
    "        test_acc = test(model, test_loader)\n",
    "        # 测试模型在后门样本上的攻击准确率\n",
    "        test_asr = test_backdoor(model, test_loader, trigger)\n",
    "        print('Epoch %d: train_loss %.4f, test_acc %.2f%%, test_asr %.2f%%, ' % (epoch, train_loss, test_acc, test_asr))\n",
    "    trained_models.append(model)\n",
    "    invisible_triggers.append((trigger_lr, trigger))"
   ]
  },
  {
   "cell_type": "markdown",
   "id": "0ea8e72f",
   "metadata": {},
   "source": [
    "## Demo Backdoor Visualization\n",
    "- 可视化trigger"
   ]
  },
  {
   "cell_type": "code",
   "execution_count": 7,
   "id": "9acd1093",
   "metadata": {},
   "outputs": [
    {
     "data": {
      "image/png": "[encoded data removed]",
      "text/plain": [
       "<Figure size 1000x300 with 3 Axes>"
      ]
     },
     "metadata": {},
     "output_type": "display_data"
    }
   ],
   "source": [
    "fig = plt.figure(figsize=(10, 3))\n",
    "for idx, triggers in enumerate(invisible_triggers):\n",
    "    ax = fig.add_subplot(1, 3, idx+1)\n",
    "    \n",
    "    trigger_lr, trigger = triggers\n",
    "    ax.set_title(trigger_lr)\n",
    "    plt.imshow(trigger.detach().numpy())"
   ]
  },
  {
   "cell_type": "markdown",
   "id": "53a761dd",
   "metadata": {},
   "source": [
    "- 可视化投毒样本"
   ]
  },
  {
   "cell_type": "code",
   "execution_count": 8,
   "id": "667311db",
   "metadata": {},
   "outputs": [
    {
     "data": {
      "image/png": "[encoded data removed]",
      "text/plain": [
       "<Figure size 2000x1000 with 30 Axes>"
      ]
     },
     "metadata": {},
     "output_type": "display_data"
    }
   ],
   "source": [
    "fig = plt.figure(figsize=(20, 10))\n",
    "for idx, triggers in enumerate(invisible_triggers):\n",
    "\n",
    "    for i in range(10):\n",
    "        ax = fig.add_subplot(3, 10, (idx)*10+i+1)\n",
    "        x = test_data[i][0] + trigger.detach().numpy()\n",
    "        y = test_data[i][1]\n",
    "        ax.set_title(str(y))\n",
    "        plt.imshow(x[0])  # 可视化x唯一色彩通道的像素值\n",
    "    "
   ]
  }
 ],
 "metadata": {
  "kernelspec": {
   "display_name": "base",
   "language": "python",
   "name": "python3"
  },
  "language_info": {
   "codemirror_mode": {
    "name": "ipython",
    "version": 3
   },
   "file_extension": ".py",
   "mimetype": "text/x-python",
   "name": "python",
   "nbconvert_exporter": "python",
   "pygments_lexer": "ipython3",
   "version": "3.10.12"
  }
 },
 "nbformat": 4,
 "nbformat_minor": 5
}
