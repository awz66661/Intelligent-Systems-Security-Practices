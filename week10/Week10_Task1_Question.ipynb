{
 "cells": [
  {
   "cell_type": "code",
   "execution_count": 2,
   "metadata": {},
   "outputs": [],
   "source": [
    "import random\n",
    "import numpy as np\n",
    "import matplotlib.pyplot as plt\n",
    "import torch\n",
    "import torch.nn as nn\n",
    "import torchvision\n",
    "from utils_week9to11 import LeNet5, train, test"
   ]
  },
  {
   "cell_type": "code",
   "execution_count": 3,
   "metadata": {},
   "outputs": [],
   "source": [
    "batch_size = 128\n",
    "epochs = 10\n",
    "lr = 0.01\n",
    "device = torch.device('cuda') if torch.cuda.is_available() else 'cpu'"
   ]
  },
  {
   "cell_type": "markdown",
   "metadata": {},
   "source": [
    "## Demo Backdoor Visualization\n",
    "对传入的clean_data进行**遍历和投毒攻击**\n",
    "\n",
    "每次得到的元组(x, y)中，x是形状为[1, 28, 28]的tensor输入，y是int标签\n",
    "\n",
    "各函数参数的含义见代码注释\n",
    "\n",
    "\n",
    "**建议使用的API**：\n",
    "- random.random()：返回一个[0,1)之间的随机数浮点数"
   ]
  },
  {
   "cell_type": "code",
   "execution_count": 8,
   "metadata": {},
   "outputs": [],
   "source": [
    "def backdooring_dataset(clean_data, ratio, size=3, target=3):\n",
    "    '''\n",
    "    @param: clean_data，干净的数据集\n",
    "    @param: ratio，0~1之间的浮点数，表示对数据集的投毒比例\n",
    "    @param: size，正整数，表示在图片右下角添加trigger的边长\n",
    "    @param: target，整数，表示后门样本的target label\n",
    "    \n",
    "    @return: 投毒完毕的数据集\n",
    "    '''\n",
    "    xs = []\n",
    "    ys = []\n",
    "    for x, y in clean_data:\n",
    "        # TODO：从clean_data中随机选ratio比例的样本做后门投毒攻击，同时对图片和标签投毒\n",
    "        # 在图片的右下角贴上边长为size的小方块（像素值为1.0），并将标签修改为target\n",
    "        if random.random() < ratio:\n",
    "            for i in range(x.shape[1]-size, x.shape[1]):\n",
    "                for j in range(x.shape[2]-size, x.shape[2]):\n",
    "                    x[0][i][j] = 1.0\n",
    "            y = target\n",
    "\n",
    "        xs.append(x)\n",
    "        ys.append(y)\n",
    "\n",
    "    xs_tensor = torch.stack(xs)\n",
    "    ys_tensor = torch.tensor(ys)\n",
    "    return torch.utils.data.TensorDataset(xs_tensor, ys_tensor)"
   ]
  },
  {
   "cell_type": "markdown",
   "metadata": {},
   "source": [
    "作为demo实验，先尝试投毒比例为50%的后门攻击，并可视化前10个样本"
   ]
  },
  {
   "cell_type": "code",
   "execution_count": 10,
   "metadata": {},
   "outputs": [
    {
     "data": {
      "image/png": "[encoded data removed]",
      "text/plain": [
       "<Figure size 2000x300 with 10 Axes>"
      ]
     },
     "metadata": {},
     "output_type": "display_data"
    }
   ],
   "source": [
    "simple_transform = torchvision.transforms.ToTensor()\n",
    "demo_clean_data = torchvision.datasets.MNIST(root='data/', train=False, transform=simple_transform, download=True)\n",
    "demo_attack_data = backdooring_dataset(demo_clean_data, ratio=0.5, size=7, target=5)\n",
    "\n",
    "fig = plt.figure(figsize=(20, 3))\n",
    "for i in range(10):\n",
    "    a = fig.add_subplot(1, 10, i+1)\n",
    "    x = demo_attack_data[i][0]\n",
    "    y = demo_attack_data[i][1]\n",
    "    a.set_title(str(y.item()))\n",
    "    plt.imshow(x[0])  # 可视化x唯一色彩通道的像素值"
   ]
  },
  {
   "cell_type": "markdown",
   "metadata": {},
   "source": [
    "## Backdooring under Different Poisoning Ratios\n",
    "\n",
    "下面进行后门攻击。后门攻击中，攻击者会干预模型的训练和测试两阶段\n",
    "\n",
    "在训练时投入一定比例的后门样本，在测试时将trigger添加在干净图片上发起攻击\n",
    "\n",
    "**具体实验中涉及三个数据集**：\n",
    "1. poisoned_train_data，攻击者投入一定比例后门样本的训练集\n",
    "2. clean_test_data，干净的测试集，在该数据集上评估模型的预测准确率ACC\n",
    "3. attack_test_data，所有样本都贴上trigger的测试集，在该数据集上评估攻击成功率ASR"
   ]
  },
  {
   "cell_type": "code",
   "execution_count": 11,
   "metadata": {},
   "outputs": [
    {
     "name": "stdout",
     "output_type": "stream",
     "text": [
      "Clean test data is prepared.\n",
      "Attack test data is prepared.\n"
     ]
    }
   ],
   "source": [
    "clean_test_data = torchvision.datasets.MNIST(root='data/', train=False, transform=simple_transform, download=True)\n",
    "clean_test_loader = torch.utils.data.DataLoader(dataset=clean_test_data, batch_size=batch_size, shuffle=True)\n",
    "print('Clean test data is prepared.')\n",
    "\n",
    "attack_test_data = backdooring_dataset(clean_test_data, ratio=1.0, size=3, target=3)\n",
    "attack_test_loader = torch.utils.data.DataLoader(dataset=attack_test_data, batch_size=batch_size, shuffle=True)\n",
    "print('Attack test data is prepared.')"
   ]
  },
  {
   "cell_type": "markdown",
   "metadata": {},
   "source": [
    "在不同投毒比例（[0.01, 0.05, 0.1]）下训练并植入后门，再测试模型在干净测试集上的准确率ACC、在后门测试集上的攻击成功率ASR\n",
    "\n",
    "**助教验收**：\n",
    "- 3种投毒比例下，最佳效果的test_acc > 98.0、test_asr > 99.0%"
   ]
  },
  {
   "cell_type": "code",
   "execution_count": 12,
   "metadata": {},
   "outputs": [
    {
     "name": "stdout",
     "output_type": "stream",
     "text": [
      "##### Experiment on ratio=0.01 #####\n",
      "Poisoned train data is prepared.\n",
      "Epoch 0: train_loss 0.1981, test_acc 97.98%, test_asr 99.95%\n",
      "Epoch 1: train_loss 0.0614, test_acc 98.35%, test_asr 99.41%\n",
      "Epoch 2: train_loss 0.0514, test_acc 98.01%, test_asr 99.99%\n",
      "Epoch 3: train_loss 0.0476, test_acc 98.45%, test_asr 99.97%\n",
      "Epoch 4: train_loss 0.0460, test_acc 98.26%, test_asr 99.93%\n",
      "Epoch 5: train_loss 0.0458, test_acc 98.62%, test_asr 99.85%\n",
      "Epoch 6: train_loss 0.0405, test_acc 98.71%, test_asr 99.79%\n",
      "Epoch 7: train_loss 0.0449, test_acc 98.29%, test_asr 99.92%\n",
      "Epoch 8: train_loss 0.0387, test_acc 98.71%, test_asr 99.99%\n",
      "Epoch 9: train_loss 0.0418, test_acc 98.42%, test_asr 99.96%\n",
      "##### Experiment on ratio=0.05 #####\n",
      "Poisoned train data is prepared.\n",
      "Epoch 0: train_loss 0.2179, test_acc 98.08%, test_asr 99.65%\n",
      "Epoch 1: train_loss 0.0664, test_acc 98.24%, test_asr 99.97%\n",
      "Epoch 2: train_loss 0.0557, test_acc 98.13%, test_asr 100.00%\n",
      "Epoch 3: train_loss 0.0447, test_acc 98.23%, test_asr 99.61%\n",
      "Epoch 4: train_loss 0.0481, test_acc 98.35%, test_asr 99.49%\n",
      "Epoch 5: train_loss 0.0495, test_acc 98.47%, test_asr 99.98%\n",
      "Epoch 6: train_loss 0.0429, test_acc 98.50%, test_asr 99.91%\n",
      "Epoch 7: train_loss 0.0444, test_acc 98.46%, test_asr 99.79%\n",
      "Epoch 8: train_loss 0.0430, test_acc 98.72%, test_asr 99.99%\n",
      "Epoch 9: train_loss 0.0454, test_acc 98.63%, test_asr 99.98%\n",
      "##### Experiment on ratio=0.10 #####\n",
      "Poisoned train data is prepared.\n",
      "Epoch 0: train_loss 0.2692, test_acc 97.55%, test_asr 99.93%\n",
      "Epoch 1: train_loss 0.0676, test_acc 97.49%, test_asr 99.46%\n",
      "Epoch 2: train_loss 0.0602, test_acc 97.90%, test_asr 100.00%\n",
      "Epoch 3: train_loss 0.0542, test_acc 96.84%, test_asr 99.99%\n",
      "Epoch 4: train_loss 0.0500, test_acc 98.03%, test_asr 100.00%\n",
      "Epoch 5: train_loss 0.0473, test_acc 97.29%, test_asr 99.87%\n",
      "Epoch 6: train_loss 0.0505, test_acc 98.14%, test_asr 99.98%\n",
      "Epoch 7: train_loss 0.0497, test_acc 97.95%, test_asr 100.00%\n",
      "Epoch 8: train_loss 0.0503, test_acc 97.80%, test_asr 99.98%\n",
      "Epoch 9: train_loss 0.0469, test_acc 98.22%, test_asr 99.93%\n"
     ]
    }
   ],
   "source": [
    "clean_train_data = torchvision.datasets.MNIST(root='data/', train=True, transform=simple_transform, download=True)\n",
    "trained_models = []\n",
    "for this_ratio in [0.01, 0.05, 0.1]:\n",
    "    print('##### Experiment on ratio=%.2f #####' % this_ratio)\n",
    "    poisoned_train_data = backdooring_dataset(clean_train_data, ratio=this_ratio, size=3, target=3)\n",
    "    poisoned_train_loader = torch.utils.data.DataLoader(dataset=poisoned_train_data, batch_size=batch_size, shuffle=True)\n",
    "    print('Poisoned train data is prepared.')\n",
    "    \n",
    "    model = LeNet5()\n",
    "    model = model.to(device)\n",
    "    criterion = nn.CrossEntropyLoss()\n",
    "    optimizer = torch.optim.Adam(model.parameters(), lr=lr)\n",
    "\n",
    "    for epoch in range(epochs):\n",
    "        # TODO：在某比例的有毒训练集上训练一轮，并计算train_loss\n",
    "        train_loss = train(model, poisoned_train_loader, criterion, optimizer, device)\n",
    "        # TODO：评测模型在干净测试集上的准确率test_acc\n",
    "        test_acc = test(model, clean_test_loader, device)\n",
    "        # TODO：评测模型在后门样本上的攻击成功率test_asr\n",
    "        test_asr = test(model, attack_test_loader, device)\n",
    "        \n",
    "        print('Epoch %d: train_loss %.4f, test_acc %.2f%%, test_asr %.2f%%' % (epoch, train_loss, test_acc, test_asr))\n",
    "        \n",
    "    trained_models.append(model)"
   ]
  }
 ],
 "metadata": {
  "kernelspec": {
   "display_name": "Python 3",
   "language": "python",
   "name": "python3"
  },
  "language_info": {
   "codemirror_mode": {
    "name": "ipython",
    "version": 3
   },
   "file_extension": ".py",
   "mimetype": "text/x-python",
   "name": "python",
   "nbconvert_exporter": "python",
   "pygments_lexer": "ipython3",
   "version": "3.12.3"
  }
 },
 "nbformat": 4,
 "nbformat_minor": 2
}
