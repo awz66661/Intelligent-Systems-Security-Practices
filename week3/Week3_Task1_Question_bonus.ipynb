{
 "cells": [
  {
   "cell_type": "markdown",
   "id": "164f81cc",
   "metadata": {},
   "source": [
    "# Task1: 基于自动微分的手写数字识别\n",
    "## 引入相关库"
   ]
  },
  {
   "cell_type": "code",
   "execution_count": 1,
   "id": "004bf64b-0af9-4c00-99b2-1b4405e8f355",
   "metadata": {},
   "outputs": [],
   "source": [
    "import torch\n",
    "import torchvision\n",
    "import torchvision.transforms as transforms\n",
    "import numpy as np"
   ]
  },
  {
   "cell_type": "markdown",
   "id": "25d527ca",
   "metadata": {},
   "source": [
    "## 设置超参数"
   ]
  },
  {
   "cell_type": "code",
   "execution_count": 2,
   "id": "7fc22903",
   "metadata": {},
   "outputs": [],
   "source": [
    "input_size = 784\n",
    "hidden_size = 100\n",
    "label_num = 10\n",
    "\n",
    "learning_rate = 0.01\n",
    "epoches = 10\n",
    "batch_size = 128"
   ]
  },
  {
   "cell_type": "markdown",
   "id": "2c295ee7",
   "metadata": {},
   "source": [
    "## 随机初始化模型参数\n",
    "\n",
    "- np.random.randn(d0, d1, ..., dn) [Doc](https://numpy.org/doc/stable/reference/random/generated/numpy.random.randn.html)\n",
    "\n",
    "    - 生成服从标准正态分布的随机数\n",
    "    - Params: d0, d1, ..., dn: int，指示生成的矩阵每一维度大小\n",
    "    - Returns: ndarray\n",
    "\n",
    "- np.zeros(shape, dtype=float) [Doc](https://numpy.org/doc/stable/reference/generated/numpy.zeros.html#)\n",
    "\n",
    "    - 生成全零矩阵\n",
    "    - Parmas: shape: int或tuple，指示生成的矩阵大小，如(2, 3)或2\n",
    "    - Returns: ndarray"
   ]
  },
  {
   "cell_type": "code",
   "execution_count": 3,
   "id": "c19ea37b",
   "metadata": {},
   "outputs": [],
   "source": [
    "Wh = np.random.randn(input_size, hidden_size) / 10\n",
    "bh = np.zeros(hidden_size, )\n",
    "Wo = np.random.randn(hidden_size, label_num) / 5\n",
    "bo = np.zeros(label_num, )"
   ]
  },
  {
   "cell_type": "markdown",
   "id": "627409d4",
   "metadata": {},
   "source": [
    "## 把np.ndarray转换为torch.Tensor\n",
    "\n",
    "- torch.FloatTensor(data) [Doc](https://pytorch.org/docs/stable/generated/torch.tensor.html)\n",
    "\n",
    "    - 从已有数据构建torch Tensor\n",
    "    - Params: data: list或tuple或ndarray，已有数据\n",
    "    - Returns: torch.Tensor\n",
    "\n",
    "- torch.Tensor.requires_grad [Doc](https://pytorch.org/docs/stable/generated/torch.Tensor.requires_grad.html)\n",
    "\n",
    "    - 属性，表示tensor是否加入计算图，设置为True即表示需要反向累积梯度"
   ]
  },
  {
   "cell_type": "code",
   "execution_count": 4,
   "id": "9e39e522-19d2-48f6-9d29-75c636d90017",
   "metadata": {},
   "outputs": [],
   "source": [
    "Wh = torch.FloatTensor(Wh)\n",
    "bh = torch.FloatTensor(bh)\n",
    "Wo = torch.FloatTensor(Wo)\n",
    "bo = torch.FloatTensor(bo)\n",
    "\n",
    "Wh.requires_grad = True\n",
    "bh.requires_grad = True\n",
    "Wo.requires_grad = True\n",
    "bo.requires_grad = True"
   ]
  },
  {
   "cell_type": "markdown",
   "id": "f53f3d31",
   "metadata": {},
   "source": [
    "## 加载数据集\n",
    "\n",
    "- 自动下载MNIST数据集到./MNIST路径"
   ]
  },
  {
   "cell_type": "code",
   "execution_count": 5,
   "id": "17757476-51c0-4d83-bd6b-a052e6c4d626",
   "metadata": {},
   "outputs": [],
   "source": [
    "# transform = transforms.Compose([transforms.ToTensor(), transforms.Normalize((0.1307,), (0.3081,))])\n",
    "transform = transforms.ToTensor()\n",
    "\n",
    "trainset = torchvision.datasets.MNIST(root=\"./MNIST\", train=True, download=True, transform=transform)\n",
    "testset = torchvision.datasets.MNIST(root=\"./MNIST\", train=False, download=True, transform=transform)\n",
    "\n",
    "train_loader = torch.utils.data.DataLoader(trainset, batch_size=batch_size, shuffle=True, drop_last=True)\n",
    "test_loader = torch.utils.data.DataLoader(testset, batch_size=batch_size, shuffle=False, drop_last=True)"
   ]
  },
  {
   "attachments": {},
   "cell_type": "markdown",
   "id": "531062c5",
   "metadata": {},
   "source": [
    "## 定义正向预测\n",
    "\n",
    "- 函数功能\n",
    "\n",
    "    - 实现模型的正向传播\n",
    "    - 模型定义：\n",
    "\n",
    "        - $h = \\sigma(W_h x + b_h)$\n",
    "        - $o = W_o h + b_o$\n",
    "\n",
    "- Params: \n",
    "\n",
    "    - x: 输入矩阵，torch.Tensor, shape = [batch_size, input_size]\n",
    "    - Wh: 隐藏层参数矩阵，torch.Tensor, shape = [input_size, hidden_size]\n",
    "    - bh: 隐藏层偏置矩阵，torch.Tensor, shape = [hidden_size]\n",
    "    - Wo: 输出层参数矩阵，torch.Tensor, shape = [hidden_size, label_num]\n",
    "    - bo: 输出层偏置矩阵，torch.Tensor, shape = [label_num]\n",
    "\n",
    "- Return: \n",
    "\n",
    "    - o: 输出矩阵，torch.Tensor, shape = [batch_size, label_num]\n",
    "\n",
    "- API参考\n",
    "\n",
    "    - torch.mm(input, mat2) [Doc](https://pytorch.org/docs/stable/generated/torch.mm.html)\n",
    "\n",
    "        - 执行标准数学矩阵乘法\n",
    "        - Params: \n",
    "\n",
    "            - input: 输入矩阵1，torch.Tensor, shape = [n, m]\n",
    "            - mat2: 输入矩阵2，torch.Tensor, shape = [m, p]\n",
    "        \n",
    "        - Return:\n",
    "\n",
    "            - out: 输出矩阵，torch.Tensor, shape = [n, p]\n",
    "\n",
    "    - torch.sigmoid(input) [Doc](https://pytorch.org/docs/stable/generated/torch.sigmoid.html)\n",
    "\n",
    "        - 对输入的每一位执行sigmoid函数运算\n",
    "        - Param: input: torch.Tensor\n",
    "        - Return: torch.Tensor, shape = input.shape"
   ]
  },
  {
   "cell_type": "code",
   "execution_count": 6,
   "id": "edf004ee",
   "metadata": {},
   "outputs": [],
   "source": [
    "def forward(x, Wh, bh, Wo, bo):\n",
    "    \n",
    "    # TODO: 根据上述函数描述，利用给定的API实现模型正向预测计算\n",
    "    h = torch.sigmoid(torch.mm(x, Wh) + bh)\n",
    "    o = torch.mm(h, Wo) + bo\n",
    "    return h, o"
   ]
  },
  {
   "cell_type": "markdown",
   "id": "950cd361",
   "metadata": {},
   "source": [
    "## 定义反向过程（梯度计算）\n",
    "\n",
    "- 函数功能\n",
    "\n",
    "    - 根据模型预测o和真实标签y，实现对Wh, bh, Wo, bo参数矩阵的损失及反向传播梯度计算\n",
    "    - 过程定义：\n",
    "\n",
    "        - $\\tilde{o}_j = \\frac{\\exp(o_j)}{\\sum_{l=1}^{10} \\exp(o_l)}$\n",
    "        - $\\ell(\\tilde{o}, y) = -\\sum_{j=1}^{10} y_j \\cdot \\ln \\tilde{o}_j$\n",
    "\n",
    "- Params:\n",
    "\n",
    "    - o: 预测输出矩阵，torch.Tensor, shape = [batch_size, label_num]\n",
    "    - y: 真实标签矩阵，torch.Tensor, shape = [batch_size]\n",
    "    - Wh: 隐藏层参数矩阵，torch.Tensor, shape = [input_size, hidden_size]\n",
    "    - bh: 隐藏层偏置矩阵，torch.Tensor, shape = [hidden_size]\n",
    "    - Wo: 输出层参数矩阵，torch.Tensor, shape = [hidden_size, label_num]\n",
    "    - bo: 输出层偏置矩阵，torch.Tensor, shape = [label_num]\n",
    "\n",
    "- Return:\n",
    "\n",
    "    - dWh, dbh, dWo, dbo: torch.Tensor, 与原矩阵等大的梯度矩阵\n",
    "\n",
    "- API参考\n",
    "\n",
    "    - torch.nn.CrossEntropyLoss() [Doc](https://pytorch.org/docs/stable/generated/torch.nn.CrossEntropyLoss.html)\n",
    "        \n",
    "        - 对象，可根据给定的模型输出o与真实标签y计算交叉熵损失，内置了Softmax步骤\n",
    "        - loss.backward(): loss可通过调用CrossEntropyLoss计算获得；对loss执行backward()会为计算图中涉及的tensor反向计算梯度，累积到tensor.grad上"
   ]
  },
  {
   "cell_type": "code",
   "execution_count": 7,
   "id": "07b098d9",
   "metadata": {},
   "outputs": [],
   "source": [
    "loss_func = torch.nn.CrossEntropyLoss()\n",
    "\n",
    "\n",
    "def calc_grad(o, h, x, y, Wh, bh, Wo, bo):\n",
    "    loss = loss_func(o, y)\n",
    "\n",
    "\n",
    "    #loss.backward()\n",
    "    #return Wh.grad, bh.grad, Wo.grad, bo.grad\n",
    "\n",
    "\n",
    "    # culculate gradient without backward\n",
    "    dWh = torch.zeros_like(Wh)\n",
    "    dbh = torch.zeros_like(bh)\n",
    "    dWo = torch.zeros_like(Wo)\n",
    "    dbo = torch.zeros_like(bo)\n",
    "\n",
    "    \n",
    "    y = torch.nn.functional.one_hot(y, num_classes=label_num)\n",
    "    o = torch.nn.functional.softmax(o, dim=1)\n",
    "    delta = o - y\n",
    "    dWo = torch.mm(h.T, delta)\n",
    "    dbo = torch.sum(delta, dim=0)\n",
    "    h = h * (1 - h)\n",
    "    delta = torch.mm(delta, Wo.T) * h\n",
    "    dWh = torch.mm(x.T, delta)\n",
    "    dbh = torch.sum(delta, dim=0)\n",
    "    \n",
    "    return dWh, dbh, dWo, dbo"
   ]
  },
  {
   "cell_type": "markdown",
   "id": "0de1a19a",
   "metadata": {},
   "source": [
    "## 定义训练过程\n",
    "\n",
    "- 函数功能\n",
    "\n",
    "    - 在数据集dataloader上训练参数Wh, bh, Wo, bo\n",
    "    - 过程定义：\n",
    "\n",
    "        - forward, backward获取参数梯度\n",
    "        - 根据SGD步骤更新参数矩阵，如Wh = Wh - lr * dWh\n",
    "\n",
    "- Params:\n",
    "\n",
    "    - dataloader: 数据集读取对象，可以迭代地返回(x, y)数据对\n",
    "    - lr: 学习率，float\n",
    "    - Wh, bh, Wo, bo: 初始参数矩阵\n",
    "\n",
    "- Return: \n",
    "\n",
    "    - Wh, bh, Wo, bo: 更新后的参数矩阵"
   ]
  },
  {
   "cell_type": "code",
   "execution_count": 8,
   "id": "918d9260-8540-4c92-9129-df8092dd8615",
   "metadata": {},
   "outputs": [],
   "source": [
    "def train(dataloader, lr, Wh, bh, Wo, bo):\n",
    "    for x, y in dataloader:\n",
    "        # reshape x from [batch_size, 28, 28] to [batch_size, 784]\n",
    "        x = x.reshape(-1, 28 * 28)\n",
    "        \n",
    "        # TODO: 根据上述函数描述，利用已经实现好的forward, calc_grad函数，获取参数梯度，实现参数的SGD更新\n",
    "        h, o = forward(x, Wh, bh, Wo, bo)\n",
    "        Wh_grad, bh_grad, Wo_grad, bo_grad = calc_grad(o, h, x, y, Wh, bh, Wo, bo)\n",
    "        Wh.data = Wh.data - lr * Wh_grad\n",
    "        bh.data = bh.data - lr * bh_grad\n",
    "        Wo.data = Wo.data - lr * Wo_grad\n",
    "        bo.data = bo.data - lr * bo_grad\n",
    "        \n",
    "    return Wh, bh, Wo, bo"
   ]
  },
  {
   "cell_type": "markdown",
   "id": "b0905a3f",
   "metadata": {},
   "source": [
    "## 定义测试过程\n",
    "\n",
    "- 函数功能\n",
    "\n",
    "    - 在数据集dataloader上测试参数Wh, bh, Wo, bo参数构成模型的性能\n",
    "    - 过程定义：\n",
    "\n",
    "        - forward获取输出矩阵o，shape = [batch_size, label_num]\n",
    "        - 获取模型预测标签prediction，即矩阵o每一行的最大元素下标，shape = [batch_size]\n",
    "        - 统计预测正确的样本数correct与总样本数total\n",
    "\n",
    "- Params:\n",
    "\n",
    "    - dataloader: 数据集读取对象，可以迭代地返回(x, y)数据对\n",
    "    - Wh, bh, Wo, bo: 参数矩阵\n",
    "\n",
    "- Return: \n",
    "\n",
    "    - accuracy: 数据集上的预测准确率，float\n",
    "\n",
    "- API参考\n",
    "\n",
    "    - torch.argmax(input, dim) [Doc](https://pytorch.org/docs/stable/generated/torch.argmax.html)\n",
    "\n",
    "        - 获取矩阵某一维度最大元素的下标\n",
    "        - Params:\n",
    "\n",
    "            - input: 计算基于的tensor, torch.Tensor\n",
    "            - dim: 希望按哪个维度求max下标, int\n",
    "\n",
    "        - Return: 下标矩阵"
   ]
  },
  {
   "cell_type": "code",
   "execution_count": 9,
   "id": "b5ad326b",
   "metadata": {},
   "outputs": [],
   "source": [
    "def predict(x, Wh, bh, Wo, bo):\n",
    "    # TODO: 根据上述函数描述，利用已经实现好的forward函数和给定的参考API，实现模型的预测\n",
    "    h, o = forward(x, Wh, bh, Wo, bo)\n",
    "    prediction = torch.argmax(o, dim=1)\n",
    "    return prediction\n",
    "\n",
    "\n",
    "def test(dataloader, Wh, bh, Wo, bo):\n",
    "    correct = 0\n",
    "    total = 0\n",
    "    for x, y in dataloader:\n",
    "        # reshape x from [batch_size, 28, 28] to [batch_size, 784]\n",
    "        x = x.reshape(-1, 28 * 28)\n",
    "        \n",
    "        # forward & predict\n",
    "        prediction = predict(x, Wh, bh, Wo, bo)\n",
    "\n",
    "        # TODO: 根据上述函数描述，实现模型的预测准确率统计\n",
    "        correct += torch.sum(prediction == y).item()\n",
    "        total += y.shape[0]\n",
    "    return correct / total"
   ]
  },
  {
   "cell_type": "markdown",
   "id": "d8e85118",
   "metadata": {},
   "source": [
    "## 完成训练、测试、保存参数"
   ]
  },
  {
   "cell_type": "code",
   "execution_count": 10,
   "id": "4e30fc8d-fe0b-41b1-93bd-4d5e75998a2b",
   "metadata": {},
   "outputs": [
    {
     "name": "stdout",
     "output_type": "stream",
     "text": [
      "Epoch 2 Train Accuracy = 0.9546607905982906\n",
      "Epoch 2 Test Accuracy = 0.9525240384615384\n",
      "Epoch 4 Train Accuracy = 0.9692341079059829\n",
      "Epoch 4 Test Accuracy = 0.9661458333333334\n",
      "Epoch 6 Train Accuracy = 0.9798177083333334\n",
      "Epoch 6 Test Accuracy = 0.9719551282051282\n",
      "Epoch 8 Train Accuracy = 0.9843416132478633\n",
      "Epoch 8 Test Accuracy = 0.9742588141025641\n",
      "Epoch 10 Train Accuracy = 0.9878472222222222\n",
      "Epoch 10 Test Accuracy = 0.9750600961538461\n"
     ]
    }
   ],
   "source": [
    "for epoch in range(1, epoches + 1):\n",
    "    Wh, bh, Wo, bo = train(train_loader, learning_rate, Wh, bh, Wo, bo)\n",
    "    if epoch % 2 == 0:\n",
    "        train_accuracy = test(train_loader, Wh, bh, Wo, bo)\n",
    "        test_accuracy = test(test_loader, Wh, bh, Wo, bo)\n",
    "        print(\"Epoch\", epoch, \"Train Accuracy =\", train_accuracy)\n",
    "        print(\"Epoch\", epoch, \"Test Accuracy =\", test_accuracy)\n",
    "\n",
    "torch.save(Wh, \"./Wh.pth\")\n",
    "torch.save(Wo, \"./Wo.pth\")\n",
    "torch.save(bh, \"./bh.pth\")\n",
    "torch.save(bo, \"./bo.pth\")"
   ]
  },
  {
   "cell_type": "markdown",
   "id": "d2cc27f0",
   "metadata": {},
   "source": [
    "## 样本预测可视化"
   ]
  },
  {
   "cell_type": "code",
   "execution_count": 11,
   "id": "11a4370a",
   "metadata": {},
   "outputs": [],
   "source": [
    "from matplotlib import pyplot as plt\n",
    "\n",
    "def visualize(imgs, true_labels, pred_labels):\n",
    "    fig = plt.figure(figsize=(8, 8))\n",
    "    for idx, (img, true_label, pred_label) in enumerate(zip(imgs, true_labels, pred_labels)):\n",
    "        ax = fig.add_subplot(4, 5, idx + 1)\n",
    "        ax.imshow(img, cmap='gray')\n",
    "        ax.set_title(f'true label: {true_label.item()}\\npred label: {pred_label.item()}')\n",
    "        ax.set_xticks([])\n",
    "        ax.set_yticks([])\n",
    "    plt.show()"
   ]
  },
  {
   "cell_type": "code",
   "execution_count": 12,
   "id": "20ba080f",
   "metadata": {},
   "outputs": [
    {
     "data": {
      "image/png": "[encoded data removed]",
      "text/plain": [
       "<Figure size 800x800 with 20 Axes>"
      ]
     },
     "metadata": {},
     "output_type": "display_data"
    }
   ],
   "source": [
    "# take out the first 20 samples in test set\n",
    "x, y = next(iter(test_loader))\n",
    "x, y = x[:20], y[:20]\n",
    "\n",
    "# forward\n",
    "x = x.reshape(-1, 28 * 28)\n",
    "pred = predict(x, Wh, bh, Wo, bo)\n",
    "\n",
    "# visualize\n",
    "x = x.reshape(-1, 28, 28)\n",
    "visualize(x, y, pred)"
   ]
  }
 ],
 "metadata": {
  "kernelspec": {
   "display_name": "Python 3",
   "language": "python",
   "name": "python3"
  },
  "language_info": {
   "codemirror_mode": {
    "name": "ipython",
    "version": 3
   },
   "file_extension": ".py",
   "mimetype": "text/x-python",
   "name": "python",
   "nbconvert_exporter": "python",
   "pygments_lexer": "ipython3",
   "version": "3.10.12"
  },
  "vscode": {
   "interpreter": {
    "hash": "0af82aca95c4c45fbffe75f913fb6ef834a764cc29274537834de14d8772671d"
   }
  }
 },
 "nbformat": 4,
 "nbformat_minor": 5
}
