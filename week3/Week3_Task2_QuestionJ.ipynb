{
 "cells": [
  {
   "cell_type": "markdown",
   "id": "164f81cc",
   "metadata": {},
   "source": [
    "# Task2: 基于PyTorch框架的手写数字识别\n",
    "## 引入相关库"
   ]
  },
  {
   "cell_type": "code",
   "execution_count": null,
   "id": "004bf64b-0af9-4c00-99b2-1b4405e8f355",
   "metadata": {},
   "outputs": [],
   "source": [
    "import torch\n",
    "import torchvision\n",
    "import torchvision.transforms as transforms\n",
    "import numpy as np\n",
    "import torch.nn as nn\n",
    "from tqdm import tqdm\n",
    "import os"
   ]
  },
  {
   "cell_type": "markdown",
   "id": "25d527ca",
   "metadata": {},
   "source": [
    "## 设置超参数"
   ]
  },
  {
   "cell_type": "code",
   "execution_count": null,
   "id": "7fc22903",
   "metadata": {},
   "outputs": [
    {
     "name": "stdout",
     "output_type": "stream",
     "text": [
      "False\n",
      "2.2.1+cu121\n"
     ]
    }
   ],
   "source": [
    "learning_rate = 0.01\n",
    "epoches = 100\n",
    "batch_size = 128\n",
    "print(torch.cuda.is_available())\n",
    "# test torch version\n",
    "print(torch.__version__)"
   ]
  },
  {
   "cell_type": "markdown",
   "id": "b1eb7104",
   "metadata": {},
   "source": [
    "## Re-implement MLP\n",
    "利用PyTorch的内置神经网络模块（torch.nn.Module的子类），在MLP类中实现两个函数：\n",
    "+ 在__init__函数中，定义一个网络结构为[784-245-128-10]的MLP模型结构\n",
    "+ 在forward函数中，实现该MLP模型的前向传播过程\n",
    "\n",
    "下面是一些供你参考/可能用到的API函数：\n",
    "\n",
    "- torch.nn.Linear(*in_features*, *out_features*, *bias=True*, *device=None*, *dtype=None*) [\n",
    "  Link](https://pytorch.org/docs/stable/generated/torch.nn.Linear.html)\n",
    "  - in_features: 输入网络层的特征维度\n",
    "  - out_features: 输出网络层的特征维度\n",
    "- torch.nn.Module.forward(**input*) [Link](https://pytorch.org/docs/stable/generated/torch.nn.Module.html#torch.nn.Module.forward)\n",
    "  - 执行模型的前向过程，继承nn.Module类的类实例可以直接通过变量名加括号实现forward函数的调用，不需要写明调用forward函数\n",
    "  - 如定义了MLP(nn.Module)，则对于mlp = MLP()，可以通过mlp(**input*)调用\n",
    "- torch.Tensor.reshape(*shape*) [Link](https://pytorch.org/docs/stable/generated/torch.Tensor.reshape.html)\n",
    "  - shape: 当前tensor希望修改为的形状，如(2, 2)或(-1, 3)\n",
    "    - -1指该维度大小根据原数据维度大小和其它给定维度大小计算得到，至多可以给一个-1\n",
    "- torch.nn.Sigmoid() [Link](https://pytorch.org/docs/stable/generated/torch.nn.Sigmoid.html)"
   ]
  },
  {
   "cell_type": "code",
   "execution_count": null,
   "id": "1193adce",
   "metadata": {},
   "outputs": [],
   "source": [
    "class MLP(nn.Module):\n",
    "    def __init__(self):\n",
    "        super(MLP, self).__init__()\n",
    "        # TODO: 定义上文要求的MLP模型结构\n",
    "        self.fc1 = nn.Linear(784, 245)\n",
    "        # 使用softmax作为激活函数\n",
    "        self.softmax = nn.Softmax(dim=1)\n",
    "        self.ReLU = nn.ReLU()\n",
    "        self.fc2 = nn.Linear(245, 128)\n",
    "        self.fc3 = nn.Linear(128, 10)\n",
    "        \n",
    "    def forward(self, x):\n",
    "        # TODO: 定义MLP模型的前向过程\n",
    "        xL = x.view(-1, 784)\n",
    "        h1 = self.fc1(xL)\n",
    "        h2 = self.fc2(self.ReLU(h1))\n",
    "        o = self.fc3(h2)\n",
    "        return o"
   ]
  },
  {
   "cell_type": "markdown",
   "id": "10a0bf5a",
   "metadata": {},
   "source": [
    "## 示例化MLP"
   ]
  },
  {
   "cell_type": "code",
   "execution_count": null,
   "id": "66d07082",
   "metadata": {},
   "outputs": [],
   "source": [
    "mlp = MLP()"
   ]
  },
  {
   "cell_type": "markdown",
   "id": "8e1ebfa8",
   "metadata": {},
   "source": [
    "## 定义损失函数、优化算法\n",
    "\n",
    "- torch.nn.CrossEntropyLoss(*weight=None*, *size_average=None*, *ignore_index=- 100*, *reduce=None*, *reduction='mean'*, *label_smoothing=0.0*) [Link](https://pytorch.org/docs/stable/generated/torch.nn.CrossEntropyLoss.html)\n",
    "  - loss.backward(): loss通过特定的计算方式获得，如调用CrossEntropyLoss；对loss执行backward()会为计算图中涉及的tensor反向计算梯度，累积到tensor.grad上\n",
    "- torch.optim.SGD(*params*, *lr=<required parameter>*, *momentum=0*, *dampening=0*, *weight_decay=0*, *nesterov=False*, ***, *maximize=False*, *foreach=None*, *differentiable=False*)  [Link](https://pytorch.org/docs/stable/generated/torch.optim.SGD.html)\n",
    "  - params: 需优化的参数Tensor\n",
    "  - lr: 参数优化的学习率\n",
    "  - zero_grad(): 清空相关参数上累积的梯度\n",
    "  - step(): 根据tensor上累积的梯度，进行一次参数更新"
   ]
  },
  {
   "cell_type": "code",
   "execution_count": null,
   "id": "9ae0d1ce",
   "metadata": {},
   "outputs": [],
   "source": [
    "criterion = nn.CrossEntropyLoss()\n",
    "optimizer = torch.optim.SGD(mlp.parameters(), lr=learning_rate)"
   ]
  },
  {
   "cell_type": "markdown",
   "id": "f53f3d31",
   "metadata": {},
   "source": [
    "## 加载数据集\n",
    "\n",
    "- 自动下载MNIST数据集到./MNIST路径"
   ]
  },
  {
   "cell_type": "code",
   "execution_count": null,
   "id": "17757476-51c0-4d83-bd6b-a052e6c4d626",
   "metadata": {},
   "outputs": [],
   "source": [
    "# transform = transforms.Compose([transforms.ToTensor(), transforms.Normalize((0.1307,), (0.3081,))])\n",
    "transform = transforms.ToTensor()\n",
    "\n",
    "trainset = torchvision.datasets.MNIST(root=\"./MNIST\", train=True, download=True, transform=transform)\n",
    "testset = torchvision.datasets.MNIST(root=\"./MNIST\", train=False, download=True, transform=transform)\n",
    "\n",
    "train_loader = torch.utils.data.DataLoader(trainset, batch_size=batch_size, shuffle=True, drop_last=True)\n",
    "test_loader = torch.utils.data.DataLoader(testset, batch_size=batch_size, shuffle=False, drop_last=True)"
   ]
  },
  {
   "cell_type": "markdown",
   "id": "98cae6c5",
   "metadata": {},
   "source": [
    "## 训练模型\n",
    "\n",
    "此处关于loss和optimizer的用法请参考上一段落的API介绍。"
   ]
  },
  {
   "cell_type": "code",
   "execution_count": 7,
   "id": "c74b85b9",
   "metadata": {},
   "outputs": [
    {
     "name": "stderr",
     "output_type": "stream",
     "text": [
      "100%|██████████| 468/468 [00:07<00:00, 62.23it/s, epoch=0, train_loss=2.3] \n",
      "100%|██████████| 468/468 [00:07<00:00, 60.59it/s, epoch=1, train_loss=2.3] \n",
      "  1%|▏         | 6/468 [00:00<00:08, 56.94it/s, epoch=2, train_loss=2.3]"
     ]
    }
   ],
   "source": [
    "mlp.train()\n",
    "\n",
    "for e in range(epoches):\n",
    "    t = tqdm(train_loader)\n",
    "    for img, label in t:\n",
    "        # Forward img and compute loss\n",
    "        pred = mlp(img)\n",
    "        loss = criterion(pred, label)\n",
    "        \n",
    "        # TODO: 基于优化器的使用方法，完成反向梯度传播、参数更新\n",
    "        optimizer.zero_grad()#清空梯度\n",
    "        loss.backward()#反向传播\n",
    "        optimizer.step()#更新参数\n",
    "        t.set_postfix(epoch=e, train_loss=loss.item())"
   ]
  },
  {
   "cell_type": "markdown",
   "id": "9060fa17",
   "metadata": {},
   "source": [
    "## 测试模型\n",
    "\n",
    "- torch.argmax(*input*, *dim*, *keepdim=False*) [Link](https://pytorch.org/docs/stable/generated/torch.argmax.html)\n",
    "  - input: 计算基于的tensor\n",
    "  - dim: 希望按哪个维度求max下标"
   ]
  },
  {
   "cell_type": "code",
   "execution_count": null,
   "id": "97bb449e",
   "metadata": {},
   "outputs": [
    {
     "name": "stderr",
     "output_type": "stream",
     "text": [
      "100%|██████████| 78/78 [00:01<00:00, 75.97it/s, test_acc=0.978]\n"
     ]
    }
   ],
   "source": [
    "mlp.eval()\n",
    "\n",
    "correct_cnt, sample_cnt = 0, 0\n",
    "\n",
    "t = tqdm(test_loader)\n",
    "for img, label in t:\n",
    "    # Predict label for img\n",
    "    img = img.reshape(img.shape[0], -1)\n",
    "    pred = mlp(img)\n",
    "    pred_label = pred.argmax(dim=1)\n",
    "    \n",
    "    correct_cnt += (pred_label == label).sum().item()\n",
    "    sample_cnt += pred_label.shape[0]\n",
    "\n",
    "    t.set_postfix(test_acc=correct_cnt/sample_cnt)"
   ]
  },
  {
   "cell_type": "markdown",
   "id": "5251bbfb",
   "metadata": {},
   "source": [
    "## 保存模型\n",
    "\n",
    "- 将完成训练的模型保存到服务器的model/目录下\n",
    "\n",
    "- ModelScope服务器端无法长久保存文件，因此请及时下载、本地保存你完成的代码，以及模型的参数文件（model/mlp.pt）。"
   ]
  },
  {
   "cell_type": "code",
   "execution_count": null,
   "id": "113ac32c",
   "metadata": {},
   "outputs": [],
   "source": [
    "if not os.path.exists('model/'):\n",
    "    os.mkdir('model/')\n",
    "\n",
    "torch.save(mlp.state_dict(), 'model/mlpS.pt')"
   ]
  }
 ],
 "metadata": {
  "kernelspec": {
   "display_name": "Python 3",
   "language": "python",
   "name": "python3"
  },
  "language_info": {
   "codemirror_mode": {
    "name": "ipython",
    "version": 3
   },
   "file_extension": ".py",
   "mimetype": "text/x-python",
   "name": "python",
   "nbconvert_exporter": "python",
   "pygments_lexer": "ipython3",
   "version": "3.10.12"
  },
  "vscode": {
   "interpreter": {
    "hash": "0af82aca95c4c45fbffe75f913fb6ef834a764cc29274537834de14d8772671d"
   }
  }
 },
 "nbformat": 4,
 "nbformat_minor": 5
}
