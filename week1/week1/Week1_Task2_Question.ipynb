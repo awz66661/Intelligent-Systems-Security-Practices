{
 "cells": [
  {
   "cell_type": "code",
   "execution_count": 2,
   "id": "af19eef9-efba-4c03-8195-902a1e80d0c1",
   "metadata": {},
   "outputs": [],
   "source": [
    "import numpy as np"
   ]
  },
  {
   "cell_type": "code",
   "execution_count": 3,
   "id": "7ece0344-0031-44bc-bee3-c9d58f5b6a99",
   "metadata": {},
   "outputs": [
    {
     "name": "stdout",
     "output_type": "stream",
     "text": [
      "[[1 2 3]\n",
      " [1 2 3]\n",
      " [1 2 3]]\n",
      "[[3 2 1]\n",
      " [3 2 1]\n",
      " [3 2 1]]\n"
     ]
    }
   ],
   "source": [
    "a = np.array([[1, 2, 3], [1, 2, 3], [1, 2, 3]])\n",
    "b = np.array([[3, 2, 1], [3, 2, 1], [3, 2, 1]])\n",
    "print(a)\n",
    "print(b)"
   ]
  },
  {
   "cell_type": "code",
   "execution_count": 4,
   "id": "f978201e",
   "metadata": {},
   "outputs": [
    {
     "name": "stdout",
     "output_type": "stream",
     "text": [
      "[[18, 12, 6], [18, 12, 6], [18, 12, 6]]\n"
     ]
    }
   ],
   "source": [
    "aL = a.tolist()\n",
    "bL = b.tolist()\n",
    "\n",
    "def matrix_multiply(A, B):\n",
    "    # A 的列数必须等于 B 的行数\n",
    "    if len(A[0]) != len(B):\n",
    "        raise ValueError(\"A 的列数必须等于 B 的行数\")\n",
    "\n",
    "    # 初始化结果矩阵\n",
    "    result = [[0 for _ in range(len(B[0]))] for _ in range(len(A))]\n",
    "\n",
    "    # 进行矩阵乘法\n",
    "    for i in range(len(A)):\n",
    "        for j in range(len(B[0])):\n",
    "            for k in range(len(B)):\n",
    "                result[i][j] += A[i][k] * B[k][j]\n",
    "\n",
    "    return result\n",
    "\n",
    "print(matrix_multiply(aL, bL))"
   ]
  },
  {
   "cell_type": "code",
   "execution_count": 5,
   "id": "e07319f6-31b8-48a4-af84-0188e5b3a0ed",
   "metadata": {},
   "outputs": [
    {
     "name": "stdout",
     "output_type": "stream",
     "text": [
      "[[18 12  6]\n",
      " [18 12  6]\n",
      " [18 12  6]]\n",
      "[[18 12  6]\n",
      " [18 12  6]\n",
      " [18 12  6]]\n"
     ]
    }
   ],
   "source": [
    "#TODO:计算a,b的矩阵乘结果，并输出\n",
    "ab = a.dot(b)\n",
    "print(ab)\n",
    "ab = a @ b\n",
    "print(ab)"
   ]
  },
  {
   "cell_type": "code",
   "execution_count": 6,
   "id": "e21bc942-287b-4175-a7a0-8cb71e991e24",
   "metadata": {},
   "outputs": [
    {
     "name": "stdout",
     "output_type": "stream",
     "text": [
      "[[18, 12, 6], [18, 12, 6], [18, 12, 6]]\n"
     ]
    }
   ],
   "source": [
    "#TODO：将结果转换回Python List形式，并输出\n",
    "ab_list = ab.tolist()\n",
    "print(ab_list)"
   ]
  },
  {
   "cell_type": "markdown",
   "id": "22cf6ede",
   "metadata": {},
   "source": [
    "1. 写一个函数实现乘法\n",
    "2. 减法， 除法，元素乘法，幂运算，矩阵的逆，矩阵转置，矩阵行列式，矩阵特征值和特征向量"
   ]
  }
 ],
 "metadata": {
  "kernelspec": {
   "display_name": "Python 3 (ipykernel)",
   "language": "python",
   "name": "python3"
  },
  "language_info": {
   "codemirror_mode": {
    "name": "ipython",
    "version": 3
   },
   "file_extension": ".py",
   "mimetype": "text/x-python",
   "name": "python",
   "nbconvert_exporter": "python",
   "pygments_lexer": "ipython3",
   "version": "3.10.12"
  }
 },
 "nbformat": 4,
 "nbformat_minor": 5
}
