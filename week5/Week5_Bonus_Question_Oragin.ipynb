{
 "cells": [
  {
   "cell_type": "code",
   "execution_count": null,
   "metadata": {},
   "outputs": [],
   "source": [
    "import os\n",
    "import numpy as np\n",
    "import pickle\n",
    "from matplotlib import pyplot as plt\n",
    "\n",
    "import torch\n",
    "import torch.nn as nn\n",
    "import torch.nn.functional as F\n",
    "\n",
    "from Week567_General_Code_Answer import load_mnist"
   ]
  },
  {
   "cell_type": "code",
   "execution_count": null,
   "metadata": {},
   "outputs": [],
   "source": [
    "batch_size = 128\n",
    "train_loader, test_loader = load_mnist(batch_size=batch_size)\n",
    "mnist_dim = 28 * 28\n",
    "z_dim = 64"
   ]
  },
  {
   "cell_type": "code",
   "execution_count": null,
   "metadata": {},
   "outputs": [],
   "source": [
    "class Generator(nn.Module):\n",
    "    def __init__(self, z_dim, mnist_dim):\n",
    "        super(Generator, self).__init__()\n",
    "        # TODO：定义Generator的结构\n",
    "\n",
    "    def forward(self, x):\n",
    "        # TODO：前向传播\n",
    "\n",
    "class Discriminator(nn.Module):\n",
    "    def __init__(self, mnist_dim):\n",
    "        super(Discriminator, self).__init__()\n",
    "        # TODO：定义Discriminator结构\n",
    "\n",
    "    def forward(self, x):\n",
    "        # TODO：前向传播\n"
   ]
  },
  {
   "cell_type": "code",
   "execution_count": null,
   "metadata": {},
   "outputs": [],
   "source": [
    "device = torch.device('cuda' if torch.cuda.is_available() else 'cpu')\n",
    "G = Generator(z_dim, mnist_dim).to(device)\n",
    "D = Discriminator(mnist_dim).to(device)\n",
    "print(G, D)"
   ]
  },
  {
   "cell_type": "code",
   "execution_count": null,
   "metadata": {},
   "outputs": [],
   "source": [
    "lr = 0.0002\n",
    "criterion = nn.BCELoss()\n",
    "G_optimizer = torch.optim.Adam(G.parameters(), lr=lr)\n",
    "D_optimizer = torch.optim.Adam(D.parameters(), lr=lr)\n",
    "G_loss_history = []\n",
    "D_loss_history = []"
   ]
  },
  {
   "cell_type": "code",
   "execution_count": null,
   "metadata": {},
   "outputs": [],
   "source": [
    "def show():\n",
    "    G.eval()\n",
    "    G_gen = G(torch.randn((10, z_dim), device=device))\n",
    "    imgs = G_gen.detach().cpu().data.numpy().reshape(G_gen.shape[0], 28, 28)\n",
    "\n",
    "    fig = plt.figure(figsize=(8, 3))\n",
    "    for idx, img in enumerate(imgs):\n",
    "        ax = fig.add_subplot(2, 5, idx + 1)\n",
    "        ax.imshow(img, cmap='gray')\n",
    "        ax.set_xticks([])\n",
    "        ax.set_yticks([])\n",
    "    plt.show()"
   ]
  },
  {
   "cell_type": "code",
   "execution_count": null,
   "metadata": {},
   "outputs": [],
   "source": [
    "epochs = 30\n",
    "for e in range(epochs):\n",
    "    # TODO：在这里对train_loader做遍历，训练GAN\n",
    "    \n",
    "    D_loss_avg = None  # TODO：你需要额外存储Discriminator在当前epoch内各个batch的平均loss\n",
    "    G_loss_avg = None  # TODO：你需要额外存储Generator在当前epoch内各个batch的平均loss\n",
    "    print('epoch %d: D_loss %.3f, G_loss %.3f' % (e, D_loss_avg, G_loss_avg))\n",
    "    D_loss_history.append(D_loss_avg)\n",
    "    G_loss_history.append(G_loss_avg)"
   ]
  },
  {
   "cell_type": "code",
   "execution_count": null,
   "metadata": {},
   "outputs": [],
   "source": [
    "G.eval()\n",
    "G_gen = G(torch.randn((10, z_dim), device=device))\n",
    "imgs = G_gen.detach().cpu().data.numpy().reshape(G_gen.shape[0], 28, 28)\n",
    "\n",
    "fig = plt.figure(figsize=(8, 3))\n",
    "for idx, img in enumerate(imgs):\n",
    "    ax = fig.add_subplot(2, 5, idx + 1)\n",
    "    ax.imshow(img, cmap='gray')\n",
    "    ax.set_xticks([])\n",
    "    ax.set_yticks([])\n",
    "plt.show()"
   ]
  },
  {
   "cell_type": "code",
   "execution_count": null,
   "metadata": {},
   "outputs": [],
   "source": [
    "fig, ax = plt.subplots()\n",
    "plt.plot(np.array(D_loss_history), label='Discriminator')\n",
    "plt.plot(np.array(G_loss_history), label='Generator')\n",
    "plt.title(\"Training Losses\")\n",
    "plt.legend()\n",
    "plt.show()"
   ]
  },
  {
   "cell_type": "code",
   "execution_count": null,
   "metadata": {},
   "outputs": [],
   "source": []
  }
 ],
 "metadata": {
  "kernelspec": {
   "display_name": "Python 3 (ipykernel)",
   "language": "python",
   "name": "python3"
  },
  "language_info": {
   "codemirror_mode": {
    "name": "ipython",
    "version": 3
   },
   "file_extension": ".py",
   "mimetype": "text/x-python",
   "name": "python",
   "nbconvert_exporter": "python",
   "pygments_lexer": "ipython3",
   "version": "3.10.12"
  },
  "vscode": {
   "interpreter": {
    "hash": "0af82aca95c4c45fbffe75f913fb6ef834a764cc29274537834de14d8772671d"
   }
  }
 },
 "nbformat": 4,
 "nbformat_minor": 4
}
